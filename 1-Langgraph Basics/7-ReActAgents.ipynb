{
 "cells": [
  {
   "cell_type": "markdown",
   "id": "589ce3c4",
   "metadata": {},
   "source": [
    "### ReAct Agent Architecture\n",
    "\n",
    "#### Aim\n",
    "This is the intuition behind ReAct, a general agent architecture.\n",
    "\n",
    "1. act - let the model call specific tools\n",
    "2. observe - pass the tool output back to the model\n",
    "3. reason - let the model reason about the tool output to decide what to do next (e.g., call another tool or just respond directly)"
   ]
  },
  {
   "cell_type": "code",
   "execution_count": 2,
   "id": "40d7a8e9",
   "metadata": {},
   "outputs": [],
   "source": [
    "from langchain_community.tools import ArxivQueryRun, WikipediaQueryRun\n",
    "from langchain_community.utilities import ArxivAPIWrapper, WikipediaAPIWrapper"
   ]
  },
  {
   "cell_type": "code",
   "execution_count": 4,
   "id": "fbf89cab",
   "metadata": {},
   "outputs": [
    {
     "name": "stdout",
     "output_type": "stream",
     "text": [
      "arxiv\n"
     ]
    }
   ],
   "source": [
    "api_wrapper_arxiv = ArxivAPIWrapper(top_k_results=2, doc_content_chars_max=500)\n",
    "arxiv = ArxivQueryRun(api_wrapper=api_wrapper_arxiv)\n",
    "print(arxiv.name)"
   ]
  },
  {
   "cell_type": "code",
   "execution_count": 23,
   "id": "9ccd4474",
   "metadata": {},
   "outputs": [
    {
     "name": "stdout",
     "output_type": "stream",
     "text": [
      "Published: 2024-07-22\n",
      "Title: Attention Is All You Need But You Don't Need All Of It For Inference of Large Language Models\n",
      "Authors: Georgy Tyukin, Gbetondji J-S Dovonon, Jean Kaddour, Pasquale Minervini\n",
      "Summary: The inference demand for LLMs has skyrocketed in recent months, and serving\n",
      "models with low latencies remains challenging due to the quadratic input length\n",
      "complexity of the attention layers. In this work, we investigate the effect of\n",
      "dropping MLP and attention layers at inference time o\n"
     ]
    }
   ],
   "source": [
    "print(arxiv.invoke(\"Attention is all you need\"))"
   ]
  },
  {
   "cell_type": "code",
   "execution_count": 5,
   "id": "c95f193c",
   "metadata": {},
   "outputs": [
    {
     "name": "stdout",
     "output_type": "stream",
     "text": [
      "wikipedia\n"
     ]
    }
   ],
   "source": [
    "api_wrapper_wiki = WikipediaAPIWrapper(top_k_results=1, doc_content_chars_max=500)\n",
    "wiki = WikipediaQueryRun(api_wrapper=api_wrapper_wiki)\n",
    "print(wiki.name)"
   ]
  },
  {
   "cell_type": "code",
   "execution_count": 24,
   "id": "84e2947d",
   "metadata": {},
   "outputs": [
    {
     "name": "stdout",
     "output_type": "stream",
     "text": [
      "Page: India\n",
      "Summary: India, officially the Republic of India, is a country in South Asia.  It is the seventh-largest country by area; the most populous country since 2023; and, since its independence in 1947, the world's most populous democracy. Bounded by the Indian Ocean on the south, the Arabian Sea on the southwest, and the Bay of Bengal on the southeast, it shares land borders with Pakistan to the west; China, Nepal, and Bhutan to the north; and Bangladesh and Myanmar to the east. In the In\n"
     ]
    }
   ],
   "source": [
    "print(wiki.invoke(\"India\"))"
   ]
  },
  {
   "cell_type": "code",
   "execution_count": 7,
   "id": "4d7a0195",
   "metadata": {},
   "outputs": [],
   "source": [
    "from dotenv import load_dotenv\n",
    "load_dotenv()\n",
    "\n",
    "import os\n",
    "\n",
    "os.environ[\"OPENAI_API_KEY\"] = os.getenv(\"OPENAI_API_KEY\")\n",
    "os.environ[\"GROQ_API_KEY\"] = os.getenv(\"GROQ_API_KEY\")\n",
    "os.environ[\"TAVILY_API_KEy\"] = os.getenv(\"TAVILY_API_KEY\")\n",
    "os.environ[\"LANGCHAIN_API_KEY\"] = os.getenv(\"LANGCHAIN_API_KEY\")\n",
    "os.environ[\"LANGCHAIN_TRACKING_V2\"] = \"true\"\n",
    "os.environ[\"LANGCHAIN_PROJECT\"] = \"ReAct-agent\""
   ]
  },
  {
   "cell_type": "code",
   "execution_count": 9,
   "id": "837b542e",
   "metadata": {},
   "outputs": [],
   "source": [
    "# Custom functions\n",
    "def multiply(a:int, b:int)-> int:\n",
    "    \"\"\"Multiply a and b.\n",
    "    \n",
    "    Args:\n",
    "    a: first int\n",
    "    b: second int\n",
    "    \n",
    "    \"\"\"\n",
    "    return a*b\n",
    "\n",
    "def add(a:int, b:int)->int:\n",
    "    \"\"\"Add a and b.\n",
    "    \n",
    "    Args:\n",
    "    a:first int\n",
    "    b:second int\n",
    "    \n",
    "    \"\"\"\n",
    "    return a+b\n",
    "\n",
    "def divide(a:int, b:int)->float:\n",
    "    \"\"\"Divide a and b.\n",
    "    \n",
    "    Args:\n",
    "    a: first int\n",
    "    b: second int\n",
    "    \"\"\"\n",
    "    return a/b\n",
    "\n",
    "tools = [arxiv, wiki, add, multiply, divide]"
   ]
  },
  {
   "cell_type": "code",
   "execution_count": 10,
   "id": "43524470",
   "metadata": {},
   "outputs": [],
   "source": [
    "from langchain_tavily import TavilySearch\n",
    "tavily = TavilySearch()"
   ]
  },
  {
   "cell_type": "code",
   "execution_count": 11,
   "id": "7feaa5f8",
   "metadata": {},
   "outputs": [
    {
     "data": {
      "text/plain": [
       "{'query': 'tell me about the recent gst reform in India',\n",
       " 'follow_up_questions': None,\n",
       " 'answer': None,\n",
       " 'images': [],\n",
       " 'results': [{'url': 'https://www.india-briefing.com/news/india-gst-reform-2025-rate-revisions-list-goods-39619.html/',\n",
       "   'title': \"India's GST Overhaul 2025: Which Goods Get Cheaper & Costlier\",\n",
       "   'content': \"3 days ago·India's GST reform 2025 simplifies the tax structure to three slabs – 5 percent, 18 percent, and a new 40 percent de-merit rate – making\",\n",
       "   'score': 0.75809944,\n",
       "   'raw_content': None},\n",
       "  {'url': 'https://www.youtube.com/watch?v=WbYHYlnffkQ',\n",
       "   'title': \"GST 2.0 Explained: India's Biggest Tax Reform in a Decade - YouTube\",\n",
       "   'content': \"3 days ago·India's GST Council has unveiled GST 2.0—a landmark reform that simplifies tax slabs, reduces rates on essentials, and boosts affordability\",\n",
       "   'score': 0.7152057,\n",
       "   'raw_content': None},\n",
       "  {'url': 'https://www.kotakmf.com/Information/blogs/gst-2-point-0_',\n",
       "   'title': 'GST 2.0: New 5% & 18% Slabs Effective 22 Sep 2025',\n",
       "   'content': 'The new GST structure will reduce the number of tax slabs to just two — 5% and 18% — replacing the current multi-tier system. This announcement comes at a time when private consumption remains below pre-Covid trends, as highlighted by recent data.',\n",
       "   'score': 0.69820654,\n",
       "   'raw_content': None},\n",
       "  {'url': 'https://www.pib.gov.in/PressNoteDetails.aspx?NoteId=155151&ModuleId=3',\n",
       "   'title': 'GST Reforms 2025: Relief for Common Man, Boost for Businesses',\n",
       "   'content': '3 days ago·GST simplified to a two-slab structure (5% & 18%) · GST reforms cut taxes on household essentials (soaps, toothpaste, Indian breads) to 5% or Nil',\n",
       "   'score': 0.59796065,\n",
       "   'raw_content': None},\n",
       "  {'url': 'https://www.thehindu.com/opinion/op-ed/gst-20-is-a-landmark-in-indias-tax-journey/article70013240.ece',\n",
       "   'title': \"GST 2.0 is a landmark in India's tax journey - The Hindu\",\n",
       "   'content': '3 days ago·Labour-intensive sectors such as handicrafts, marble, granite, and leather goods now enjoy reduced GST rates, which will stimulate demand and',\n",
       "   'score': 0.5726516,\n",
       "   'raw_content': None}],\n",
       " 'response_time': 1.42,\n",
       " 'request_id': 'a82a0250-5586-47a0-9293-bf7c955e36bf'}"
      ]
     },
     "execution_count": 11,
     "metadata": {},
     "output_type": "execute_result"
    }
   ],
   "source": [
    "tavily.invoke(\"tell me about the recent gst reform in India\")"
   ]
  },
  {
   "cell_type": "code",
   "execution_count": 12,
   "id": "4ac93d6a",
   "metadata": {},
   "outputs": [],
   "source": [
    "### Initialize the LLM model\n",
    "\n",
    "from langchain_groq import ChatGroq\n",
    "from langchain_openai import ChatOpenAI\n",
    "\n",
    "llm = ChatOpenAI(model=\"gpt-4o-mini\")\n",
    "\n",
    "llm_with_tools = llm.bind_tools(tools)"
   ]
  },
  {
   "cell_type": "code",
   "execution_count": 14,
   "id": "70335f10",
   "metadata": {},
   "outputs": [
    {
     "name": "stdout",
     "output_type": "stream",
     "text": [
      "[{'name': 'wikipedia', 'args': {'query': 'GST Reform in India'}, 'id': 'call_Kf27QvDpUQKn46wznENI4wPn', 'type': 'tool_call'}]\n"
     ]
    }
   ],
   "source": [
    "from pprint import pprint\n",
    "from langchain_core.messages import AIMessage, HumanMessage\n",
    "\n",
    "response = llm_with_tools.invoke([HumanMessage(content=f\"What is the recent GST Reform in India\")])\n",
    "\n",
    "print(response.tool_calls)"
   ]
  },
  {
   "cell_type": "code",
   "execution_count": 15,
   "id": "00a74716",
   "metadata": {},
   "outputs": [],
   "source": [
    "# State Schema \n",
    "from typing_extensions import TypedDict\n",
    "from langchain_core.messages import AnyMessage\n",
    "from typing import Annotated\n",
    "from langgraph.graph.message import add_messages\n",
    "\n",
    "\n",
    "class State(TypedDict):\n",
    "    messages:Annotated[list[AnyMessage], add_messages]"
   ]
  },
  {
   "cell_type": "code",
   "execution_count": 27,
   "id": "88464486",
   "metadata": {},
   "outputs": [
    {
     "data": {
      "image/png": "[encoded data removed]",
      "text/plain": [
       "<IPython.core.display.Image object>"
      ]
     },
     "metadata": {},
     "output_type": "display_data"
    }
   ],
   "source": [
    "### Chatbot with LangGraph\n",
    "\n",
    "from IPython.display import display, Image\n",
    "from langgraph.graph import StateGraph, START, END\n",
    "from langgraph.prebuilt import ToolNode, tools_condition\n",
    "from pprint import pprint\n",
    "\n",
    "\n",
    "# Node definition\n",
    "\n",
    "def tool_calling_llm(state:State):\n",
    "    return {\"messages\":[llm_with_tools.invoke(state[\"messages\"])]}\n",
    "\n",
    "\n",
    "# Build the graph\n",
    "\n",
    "builder = StateGraph(State)\n",
    "builder.add_node(\"tool_calling_llm\", tool_calling_llm)\n",
    "builder.add_node(\"tools\", ToolNode(tools))\n",
    "\n",
    "builder.add_edge(START, \"tool_calling_llm\")\n",
    "builder.add_conditional_edges(\n",
    "    \"tool_calling_llm\",\n",
    "    # If the latest message (result) from assistant is a tool call -> tools_condition routes to tools\n",
    "    # If the latest message (result) from assistant is a not a tool call -> tools_condition routes to END\n",
    "    tools_condition,\n",
    ")\n",
    "\n",
    "builder.add_edge(\"tools\", \"tool_calling_llm\")\n",
    "\n",
    "graph = builder.compile()\n",
    "\n",
    "#View\n",
    "display(Image(graph.get_graph().draw_mermaid_png()))\n"
   ]
  },
  {
   "cell_type": "code",
   "execution_count": 30,
   "id": "fccd1b69",
   "metadata": {},
   "outputs": [
    {
     "name": "stdout",
     "output_type": "stream",
     "text": [
      "================================\u001b[1m Human Message \u001b[0m=================================\n",
      "\n",
      "What is the latest updates on GST report in India, also add 5 plus 5 and then multiply by 10\n",
      "==================================\u001b[1m Ai Message \u001b[0m==================================\n",
      "Tool Calls:\n",
      "  wikipedia (call_X0D4GxuxCjrY8w2tAJCRHM9P)\n",
      " Call ID: call_X0D4GxuxCjrY8w2tAJCRHM9P\n",
      "  Args:\n",
      "    query: Goods and Services Tax (GST) report in India\n",
      "  add (call_1HQz2GzANopRlcZ2On9FiuCO)\n",
      " Call ID: call_1HQz2GzANopRlcZ2On9FiuCO\n",
      "  Args:\n",
      "    a: 5\n",
      "    b: 5\n",
      "  multiply (call_h432Y3pZx2VTRU3jtF0T71fP)\n",
      " Call ID: call_h432Y3pZx2VTRU3jtF0T71fP\n",
      "  Args:\n",
      "    a: 10\n",
      "    b: 10\n",
      "=================================\u001b[1m Tool Message \u001b[0m=================================\n",
      "Name: wikipedia\n",
      "\n",
      "Page: Goods and Services Tax (India)\n",
      "Summary: The Goods and Services Tax (GST) is a type of indirect tax which is successor to multiple indirect taxes prevailing in India before 1 July 2017 for example VAT, Service Tax, Central Excise Duty, Entertainment Tax, Octroi, etc. on the supply of goods and services. It is a comprehensive, multistage, destination-based tax: comprehensive because it has subsumed almost all the indirect taxes except a few state taxes. Multi-staged as it is, the GST is impo\n",
      "=================================\u001b[1m Tool Message \u001b[0m=================================\n",
      "Name: add\n",
      "\n",
      "10\n",
      "=================================\u001b[1m Tool Message \u001b[0m=================================\n",
      "Name: multiply\n",
      "\n",
      "100\n",
      "==================================\u001b[1m Ai Message \u001b[0m==================================\n",
      "\n",
      "### Latest Updates on GST Report in India\n",
      "The Goods and Services Tax (GST) is an indirect tax that replaced multiple other taxes in India, effective from July 1, 2017. It is a comprehensive and multistage tax on the supply of goods and services. The GST aims to create a unified market in India by subsuming various state and central taxes. \n",
      "\n",
      "While the latest specific updates weren't detailed in the summary, discussions around GST often include topics like revenue collections, compliance challenges, and amendments to the GST framework. For the most recent data, it's advisable to check the official government sources or recent news articles related to GST in India.\n",
      "\n",
      "### Mathematics Calculations\n",
      "- The sum of 5 plus 5 is **10**.\n",
      "- When you multiply **10** by **10**, the result is **100**.\n"
     ]
    }
   ],
   "source": [
    "messages = graph.invoke({\"messages\":HumanMessage(content=\"What is the latest updates on GST report in India, also add 5 plus 5 and then multiply by 10\")})\n",
    "\n",
    "for message in messages[\"messages\"]:\n",
    "    message.pretty_print()"
   ]
  },
  {
   "cell_type": "code",
   "execution_count": 29,
   "id": "2a8259b4",
   "metadata": {},
   "outputs": [
    {
     "name": "stdout",
     "output_type": "stream",
     "text": [
      "================================\u001b[1m Human Message \u001b[0m=================================\n",
      "\n",
      "I want to learn Machine Learning!\n",
      "==================================\u001b[1m Ai Message \u001b[0m==================================\n",
      "\n",
      "That's great! Machine Learning (ML) is a fascinating and rapidly evolving field. Here are some steps you can follow to get started:\n",
      "\n",
      "1. **Understand the Basics**:\n",
      "   - Start with understanding what machine learning is, the different types of machine learning (supervised, unsupervised, and reinforcement learning), and common terminology.\n",
      "\n",
      "2. **Mathematics Background**:\n",
      "   - A solid understanding of statistics, linear algebra, calculus, and probability is crucial as these areas form the foundation of many ML algorithms.\n",
      "\n",
      "3. **Programming Skills**:\n",
      "   - Learn a programming language commonly used in ML, such as Python or R. Python is particularly popular due to its libraries and community support.\n",
      "\n",
      "4. **Explore ML Libraries**:\n",
      "   - Familiarize yourself with ML libraries such as Scikit-learn, TensorFlow, and PyTorch. These libraries provide tools and frameworks for building and training ML models.\n",
      "\n",
      "5. **Online Courses and Resources**:\n",
      "   - Consider taking online courses. Platforms like Coursera, edX, and Udacity offer courses from reputable institutions. Some popular courses include:\n",
      "     - Andrew Ng's Machine Learning Course on Coursera\n",
      "     - Deep Learning Specialization by Andrew Ng\n",
      "\n",
      "6. **Work on Projects**:\n",
      "   - Apply your knowledge by working on real-world projects. You can find datasets on platforms like Kaggle or UCI Machine Learning Repository.\n",
      "\n",
      "7. **Read Books and Research Papers**:\n",
      "   - Books like \"Hands-On Machine Learning with Scikit-Learn, Keras, and TensorFlow\" by Aurélien Géron are excellent for practical learning. Research papers on arXiv.org can help you stay updated with recent advancements.\n",
      "\n",
      "8. **Join the Community**:\n",
      "   - Engage with the ML community by joining forums, attending meetups, or participating in competitions on platforms like Kaggle.\n",
      "\n",
      "Would you like to explore any specific aspect of machine learning?\n"
     ]
    }
   ],
   "source": [
    "messages = graph.invoke({\"messages\":HumanMessage(content=\"I want to learn Machine Learning!\")})\n",
    "\n",
    "for message in messages[\"messages\"]:\n",
    "    message.pretty_print()"
   ]
  }
 ],
 "metadata": {
  "kernelspec": {
   "display_name": "Python 3",
   "language": "python",
   "name": "python3"
  },
  "language_info": {
   "codemirror_mode": {
    "name": "ipython",
    "version": 3
   },
   "file_extension": ".py",
   "mimetype": "text/x-python",
   "name": "python",
   "nbconvert_exporter": "python",
   "pygments_lexer": "ipython3",
   "version": "3.12.0"
  }
 },
 "nbformat": 4,
 "nbformat_minor": 5
}
