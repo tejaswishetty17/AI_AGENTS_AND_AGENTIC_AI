{
 "cells": [
  {
   "cell_type": "markdown",
   "id": "589ce3c4",
   "metadata": {},
   "source": [
    "### ReAct Agent Architecture\n",
    "\n",
    "#### Aim\n",
    "This is the intuition behind ReAct, a general agent architecture.\n",
    "\n",
    "1. act - let the model call specific tools\n",
    "2. observe - pass the tool output back to the model\n",
    "3. reason - let the model reason about the tool output to decide what to do next (e.g., call another tool or just respond directly)"
   ]
  }
 ],
 "metadata": {
  "kernelspec": {
   "display_name": "Python 3",
   "language": "python",
   "name": "python3"
  },
  "language_info": {
   "name": "python",
   "version": "3.12.0"
  }
 },
 "nbformat": 4,
 "nbformat_minor": 5
}
