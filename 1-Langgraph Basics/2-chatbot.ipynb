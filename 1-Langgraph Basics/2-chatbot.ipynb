{
 "cells": [
  {
   "cell_type": "markdown",
   "id": "ebe6c768",
   "metadata": {},
   "source": [
    "### Implementing simple Chatbot using LangGraph"
   ]
  },
  {
   "cell_type": "code",
   "execution_count": 9,
   "id": "a73e1be4",
   "metadata": {},
   "outputs": [],
   "source": [
    "import os\n",
    "from dotenv import load_dotenv\n",
    "load_dotenv()\n",
    "os.environ[\"OPENAI_API_KEY\"] = os.getenv(\"OPENAI_API_KEY\")\n",
    "os.environ[\"GROQ_API_KEY\"] = os.getenv(\"GROQ_API_KEY\")"
   ]
  },
  {
   "cell_type": "code",
   "execution_count": 10,
   "id": "a5b5f736",
   "metadata": {},
   "outputs": [],
   "source": [
    "from typing_extensions import TypedDict\n",
    "from langgraph.graph import StateGraph, START, END\n",
    "\n",
    "## Reducers\n",
    "from typing import Annotated\n",
    "from langgraph.graph.message import add_messages"
   ]
  },
  {
   "cell_type": "code",
   "execution_count": 11,
   "id": "bef89458",
   "metadata": {},
   "outputs": [],
   "source": [
    "class State(TypedDict):\n",
    "    messages:Annotated[list, add_messages]"
   ]
  },
  {
   "cell_type": "code",
   "execution_count": 8,
   "id": "35f408e1",
   "metadata": {},
   "outputs": [
    {
     "name": "stdout",
     "output_type": "stream",
     "text": [
      "content='Hello! How can I assist you today?' additional_kwargs={'refusal': None} response_metadata={'token_usage': {'completion_tokens': 9, 'prompt_tokens': 8, 'total_tokens': 17, 'completion_tokens_details': {'accepted_prediction_tokens': 0, 'audio_tokens': 0, 'reasoning_tokens': 0, 'rejected_prediction_tokens': 0}, 'prompt_tokens_details': {'audio_tokens': 0, 'cached_tokens': 0}}, 'model_name': 'gpt-4o-mini-2024-07-18', 'system_fingerprint': 'fp_8bda4d3a2c', 'id': 'chatcmpl-CClb6hERrPBBh988kJ0vM2XFYQrCq', 'service_tier': 'default', 'finish_reason': 'stop', 'logprobs': None} id='run--6fe15fe3-3034-41a4-a02b-cddd035d90b4-0' usage_metadata={'input_tokens': 8, 'output_tokens': 9, 'total_tokens': 17, 'input_token_details': {'audio': 0, 'cache_read': 0}, 'output_token_details': {'audio': 0, 'reasoning': 0}}\n"
     ]
    }
   ],
   "source": [
    "from langchain_openai import ChatOpenAI\n",
    "llm = ChatOpenAI(model = \"gpt-4o-mini\", temperature=0)\n",
    "print(llm.invoke(\"Hello\"))"
   ]
  },
  {
   "cell_type": "code",
   "execution_count": 15,
   "id": "612b6cbf",
   "metadata": {},
   "outputs": [
    {
     "name": "stdout",
     "output_type": "stream",
     "text": [
      "content='<think>\\nOkay, the user said \"Hello\". I should respond in a friendly and welcoming way. Let me make sure to keep it open-ended so they feel comfortable to ask anything. Maybe add an emoji to keep it approachable. Let me check for any typos. All looks good. Ready to respond.\\n</think>\\n\\nHi! How can I assist you today? 😊' additional_kwargs={} response_metadata={'token_usage': {'completion_tokens': 77, 'prompt_tokens': 9, 'total_tokens': 86, 'completion_time': 0.194561054, 'prompt_time': 0.006782747, 'queue_time': 0.053120282, 'total_time': 0.201343801}, 'model_name': 'qwen/qwen3-32b', 'system_fingerprint': 'fp_5cf921caa2', 'service_tier': 'on_demand', 'finish_reason': 'stop', 'logprobs': None} id='run--1bc70fd1-5109-41a9-8e4a-8e674e83b33e-0' usage_metadata={'input_tokens': 9, 'output_tokens': 77, 'total_tokens': 86}\n"
     ]
    }
   ],
   "source": [
    "from langchain_groq import ChatGroq\n",
    "llm_groq = ChatGroq(model = \"qwen/qwen3-32b\")\n",
    "print(llm_groq.invoke(\"Hello\"))"
   ]
  },
  {
   "cell_type": "markdown",
   "id": "dcc2f13b",
   "metadata": {},
   "source": [
    "### Lets create Nodes now"
   ]
  },
  {
   "cell_type": "code",
   "execution_count": 17,
   "id": "c85c5685",
   "metadata": {},
   "outputs": [],
   "source": [
    "def superbot(state:State):\n",
    "    return {\"messages\":[llm_groq.invoke(state['messages'])]}"
   ]
  },
  {
   "cell_type": "code",
   "execution_count": 18,
   "id": "f948c3b2",
   "metadata": {},
   "outputs": [
    {
     "data": {
      "image/png": "[encoded data removed]",
      "text/plain": [
       "<IPython.core.display.Image object>"
      ]
     },
     "metadata": {},
     "output_type": "display_data"
    }
   ],
   "source": [
    "graph = StateGraph(State)\n",
    "\n",
    "### Node\n",
    "graph.add_node(\"SuperBot\", superbot)\n",
    "#Edges\n",
    "graph.add_edge(START, \"SuperBot\")\n",
    "graph.add_edge(\"SuperBot\", END)\n",
    "\n",
    "graph_builder = graph.compile()\n",
    "\n",
    "# Display\n",
    "from IPython.display import Image, display\n",
    "display(Image(graph_builder.get_graph().draw_mermaid_png()))"
   ]
  },
  {
   "cell_type": "code",
   "execution_count": 19,
   "id": "d57b0dca",
   "metadata": {},
   "outputs": [
    {
     "data": {
      "text/plain": [
       "{'messages': [HumanMessage(content='Hi, My name is Tejas and I like Cricket', additional_kwargs={}, response_metadata={}, id='6f37412c-b1f5-48c3-9501-cdae7ebaed59'),\n",
       "  AIMessage(content=\"<think>\\nOkay, the user's name is Tejas, and he likes cricket. I need to respond in a friendly way. I should start by greeting him with his name and acknowledge his interest in cricket. I can ask a follow-up question to keep the conversation going, like asking if he plays cricket or follows a particular team. That way, he can expand more on his interests. I should keep the tone positive and engaging. Let me make sure the response is concise and not too long. Also, check for any grammar mistakes. Alright, that should cover it.\\n</think>\\n\\nHello Tejas! Nice to meet you. 🏏 Cricket is an amazing sport—I’d love to hear more about what you enjoy most about it! Do you follow a particular team or player, or maybe play yourself?\", additional_kwargs={}, response_metadata={'token_usage': {'completion_tokens': 163, 'prompt_tokens': 19, 'total_tokens': 182, 'completion_time': 0.396639717, 'prompt_time': 0.018358218, 'queue_time': 0.051040542, 'total_time': 0.414997935}, 'model_name': 'qwen/qwen3-32b', 'system_fingerprint': 'fp_5cf921caa2', 'service_tier': 'on_demand', 'finish_reason': 'stop', 'logprobs': None}, id='run--f7c842f9-5961-490d-9dab-bf8788911717-0', usage_metadata={'input_tokens': 19, 'output_tokens': 163, 'total_tokens': 182})]}"
      ]
     },
     "execution_count": 19,
     "metadata": {},
     "output_type": "execute_result"
    }
   ],
   "source": [
    "### Invocation\n",
    "graph_builder.invoke({'messages':\"Hi, My name is Tejas and I like Cricket\"})"
   ]
  },
  {
   "cell_type": "markdown",
   "id": "21de565f",
   "metadata": {},
   "source": [
    "### Streaming the responses"
   ]
  },
  {
   "cell_type": "code",
   "execution_count": 26,
   "id": "004ddc13",
   "metadata": {},
   "outputs": [
    {
     "name": "stdout",
     "output_type": "stream",
     "text": [
      "[HumanMessage(content='Hello my name is Tejas', additional_kwargs={}, response_metadata={}, id='6936f91e-545d-4566-aee2-0ceb7e1a1306')]\n",
      "[HumanMessage(content='Hello my name is Tejas', additional_kwargs={}, response_metadata={}, id='6936f91e-545d-4566-aee2-0ceb7e1a1306'), AIMessage(content=\"<think>\\nOkay, the user introduced themselves as Tejas. I should acknowledge their name and offer assistance. Let me make sure to respond warmly and invite them to ask any questions or share what's on their mind. Keep it friendly and open-ended.\\n</think>\\n\\nHello Tejas! Nice to meet you. 😊 How can I assist you today? Feel free to ask any questions or share what's on your mind!\", additional_kwargs={}, response_metadata={'token_usage': {'completion_tokens': 85, 'prompt_tokens': 14, 'total_tokens': 99, 'completion_time': 0.160559453, 'prompt_time': 0.011715168, 'queue_time': 0.049569132, 'total_time': 0.172274621}, 'model_name': 'qwen/qwen3-32b', 'system_fingerprint': 'fp_5cf921caa2', 'service_tier': 'on_demand', 'finish_reason': 'stop', 'logprobs': None}, id='run--e176a2d2-6020-4477-ae11-a6b98ffa2bd7-0', usage_metadata={'input_tokens': 14, 'output_tokens': 85, 'total_tokens': 99})]\n"
     ]
    }
   ],
   "source": [
    "for event in graph_builder.stream({\"messages\":\"Hello my name is Tejas\"}, stream_mode=\"values\"):\n",
    "    print(event['messages'])"
   ]
  }
 ],
 "metadata": {
  "kernelspec": {
   "display_name": "venv",
   "language": "python",
   "name": "python3"
  },
  "language_info": {
   "codemirror_mode": {
    "name": "ipython",
    "version": 3
   },
   "file_extension": ".py",
   "mimetype": "text/x-python",
   "name": "python",
   "nbconvert_exporter": "python",
   "pygments_lexer": "ipython3",
   "version": "3.12.0"
  }
 },
 "nbformat": 4,
 "nbformat_minor": 5
}
