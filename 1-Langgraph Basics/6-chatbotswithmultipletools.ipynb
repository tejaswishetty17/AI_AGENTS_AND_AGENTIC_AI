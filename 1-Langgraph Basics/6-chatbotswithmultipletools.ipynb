{
 "cells": [
  {
   "cell_type": "markdown",
   "id": "9b8d4dda",
   "metadata": {},
   "source": [
    "### Building Chatbot With Multiple Tools Using Langgraph\n",
    "\n",
    "#### Aim\n",
    "Create a chatbot with tool capabilities from arxiv, wikipedia search and some functions"
   ]
  },
  {
   "cell_type": "code",
   "execution_count": 1,
   "id": "12c866e7",
   "metadata": {},
   "outputs": [],
   "source": [
    "from langchain_community.tools import ArxivQueryRun, WikipediaQueryRun\n",
    "from langchain_community.utilities import WikipediaAPIWrapper, ArxivAPIWrapper"
   ]
  },
  {
   "cell_type": "code",
   "execution_count": 4,
   "id": "296121e2",
   "metadata": {},
   "outputs": [
    {
     "name": "stdout",
     "output_type": "stream",
     "text": [
      "arxiv\n"
     ]
    }
   ],
   "source": [
    "api_wrapper_arxiv = ArxivAPIWrapper(top_k_results=2, doc_content_chars_max=500)\n",
    "arxiv = ArxivQueryRun(api_wrapper=api_wrapper_arxiv)\n",
    "print(arxiv.name)"
   ]
  },
  {
   "cell_type": "code",
   "execution_count": 6,
   "id": "8d7a68fb",
   "metadata": {},
   "outputs": [
    {
     "name": "stdout",
     "output_type": "stream",
     "text": [
      "Published: 2024-07-22\n",
      "Title: Attention Is All You Need But You Don't Need All Of It For Inference of Large Language Models\n",
      "Authors: Georgy Tyukin, Gbetondji J-S Dovonon, Jean Kaddour, Pasquale Minervini\n",
      "Summary: The inference demand for LLMs has skyrocketed in recent months, and serving\n",
      "models with low latencies remains challenging due to the quadratic input length\n",
      "complexity of the attention layers. In this work, we investigate the effect of\n",
      "dropping MLP and attention layers at inference time o\n"
     ]
    }
   ],
   "source": [
    "print(arxiv.invoke(\"Attention is all you need\"))"
   ]
  },
  {
   "cell_type": "code",
   "execution_count": 7,
   "id": "bd226bb5",
   "metadata": {},
   "outputs": [
    {
     "name": "stdout",
     "output_type": "stream",
     "text": [
      "wikipedia\n"
     ]
    }
   ],
   "source": [
    "api_wrapper_wiki = WikipediaAPIWrapper(top_k_results=1, doc_content_chars_max=500)\n",
    "wiki = WikipediaQueryRun(api_wrapper=api_wrapper_wiki)\n",
    "print(wiki.name)"
   ]
  },
  {
   "cell_type": "code",
   "execution_count": 9,
   "id": "02b24fc1",
   "metadata": {},
   "outputs": [
    {
     "name": "stdout",
     "output_type": "stream",
     "text": [
      "Page: Attention Is All You Need\n",
      "Summary: \"Attention Is All You Need\" is a 2017 landmark research paper in machine learning authored by eight scientists working at Google. The paper introduced a new deep learning architecture known as the transformer, based on the attention mechanism proposed in 2014 by Bahdanau et al. It is considered a foundational paper in modern artificial intelligence, and a main contributor to the AI boom, as the transformer approach has become the main architecture of a wi\n"
     ]
    }
   ],
   "source": [
    "print(wiki.invoke(\"Attention is all you need\"))"
   ]
  },
  {
   "cell_type": "code",
   "execution_count": 11,
   "id": "40cc85cb",
   "metadata": {},
   "outputs": [],
   "source": [
    "import os \n",
    "from dotenv import load_dotenv\n",
    "load_dotenv()\n",
    "os.environ[\"OPENAI_API_KEY\"] = os.getenv(\"OPENAI_API_KEY\")\n",
    "os.environ[\"TAVILY_API_KEY\"] = os.getenv(\"TAVILY_API_KEY\")\n",
    "os.environ[\"GROQ_API_KEY\"] = os.getenv(\"GROQ_API_KEY\")"
   ]
  },
  {
   "cell_type": "code",
   "execution_count": null,
   "id": "f1d98eb9",
   "metadata": {},
   "outputs": [],
   "source": [
    "from langchain_tavily import TavilySearch\n",
    "tavily = TavilySearch()"
   ]
  },
  {
   "cell_type": "code",
   "execution_count": null,
   "id": "e779ba4c",
   "metadata": {},
   "outputs": [],
   "source": [
    "tavily.invoke(\"give me the current AI news\")"
   ]
  },
  {
   "cell_type": "code",
   "execution_count": 34,
   "id": "ef7f57bc",
   "metadata": {},
   "outputs": [],
   "source": [
    "### Combine all the tools in the list \n",
    "tools = [arxiv, wiki, tavily]"
   ]
  },
  {
   "cell_type": "code",
   "execution_count": 20,
   "id": "bcaae492",
   "metadata": {},
   "outputs": [],
   "source": [
    "###Initialize the llm model\n",
    "from langchain_openai import ChatOpenAI\n",
    "\n",
    "llm = ChatOpenAI(model=\"gpt-4o-mini\")\n",
    "\n",
    "llm_with_tool = llm.bind_tools(tools)"
   ]
  },
  {
   "cell_type": "code",
   "execution_count": null,
   "id": "6df7d406",
   "metadata": {},
   "outputs": [
    {
     "data": {
      "text/plain": [
       "AIMessage(content='', additional_kwargs={'tool_calls': [{'id': 'call_jkXfokayjdqimaabuwHeKxXv', 'function': {'arguments': '{\"query\":\"AI news\",\"topic\":\"news\",\"time_range\":\"month\"}', 'name': 'tavily_search'}, 'type': 'function'}], 'refusal': None}, response_metadata={'token_usage': {'completion_tokens': 26, 'prompt_tokens': 1405, 'total_tokens': 1431, 'completion_tokens_details': {'accepted_prediction_tokens': 0, 'audio_tokens': 0, 'reasoning_tokens': 0, 'rejected_prediction_tokens': 0}, 'prompt_tokens_details': {'audio_tokens': 0, 'cached_tokens': 1280}}, 'model_name': 'gpt-4o-mini-2024-07-18', 'system_fingerprint': 'fp_8bda4d3a2c', 'id': 'chatcmpl-CD7Ob8GIjWih5vrqXNEtOeJ0rv8Bh', 'service_tier': 'default', 'finish_reason': 'tool_calls', 'logprobs': None}, id='run--e2c7e250-9027-4b68-9101-5386684ba66d-0', tool_calls=[{'name': 'tavily_search', 'args': {'query': 'AI news', 'topic': 'news', 'time_range': 'month'}, 'id': 'call_jkXfokayjdqimaabuwHeKxXv', 'type': 'tool_call'}], usage_metadata={'input_tokens': 1405, 'output_tokens': 26, 'total_tokens': 1431, 'input_token_details': {'audio': 0, 'cache_read': 1280}, 'output_token_details': {'audio': 0, 'reasoning': 0}})"
      ]
     },
     "execution_count": 26,
     "metadata": {},
     "output_type": "execute_result"
    }
   ],
   "source": [
    "from pprint import pprint\n",
    "from langchain_core.messages import AIMessage, HumanMessage\n",
    "\n",
    "response = llm_with_tool.invoke([HumanMessage(content=f\"What is the recent AI news\")])"
   ]
  },
  {
   "cell_type": "code",
   "execution_count": 28,
   "id": "50b21672",
   "metadata": {},
   "outputs": [
    {
     "data": {
      "text/plain": [
       "[{'name': 'tavily_search',\n",
       "  'args': {'query': 'AI news', 'topic': 'news', 'time_range': 'week'},\n",
       "  'id': 'call_p1ydosuxn7uIPcPEisppBSMd',\n",
       "  'type': 'tool_call'}]"
      ]
     },
     "execution_count": 28,
     "metadata": {},
     "output_type": "execute_result"
    }
   ],
   "source": [
    "response.tool_calls"
   ]
  },
  {
   "cell_type": "code",
   "execution_count": 30,
   "id": "96fab35e",
   "metadata": {},
   "outputs": [],
   "source": [
    "#State Schema\n",
    "from typing_extensions import TypedDict\n",
    "from langchain_core.messages import AnyMessage\n",
    "from typing import Annotated\n",
    "from langgraph.graph.message import add_messages\n",
    "\n",
    "class State(TypedDict):\n",
    "    messages:Annotated[list[AnyMessage], add_messages]"
   ]
  },
  {
   "cell_type": "code",
   "execution_count": 37,
   "id": "304b0b67",
   "metadata": {},
   "outputs": [
    {
     "data": {
      "image/png": "[encoded data removed]",
      "text/plain": [
       "<IPython.core.display.Image object>"
      ]
     },
     "metadata": {},
     "output_type": "display_data"
    }
   ],
   "source": [
    "### Entire Chatbot with Langgraph\n",
    "from IPython.display import display, Image\n",
    "from langgraph.graph import StateGraph, START, END\n",
    "from langgraph.prebuilt import ToolNode\n",
    "from langgraph.prebuilt import tools_condition\n",
    "from pprint import pprint\n",
    "\n",
    "### Node definition\n",
    "def tool_calling_llm(state:State):\n",
    "    return {\"messages\":[llm_with_tool.invoke(state[\"messages\"])]}\n",
    "\n",
    "#Build Graph\n",
    "builder = StateGraph(State)\n",
    "builder.add_node(\"tool_calling_llm\", tool_calling_llm)\n",
    "builder.add_node(\"tools\", ToolNode(tools))\n",
    "\n",
    "\n",
    "builder.add_edge(START, \"tool_calling_llm\")\n",
    "builder.add_conditional_edges(\n",
    "    \"tool_calling_llm\", \n",
    "    # If the latest message (result) from assistant is a tool call -> tools_condition routes to tools\n",
    "    # If the latest message (result) from assistant is a not a tool call -> tools_condition routes to END\n",
    "    tools_condition\n",
    ")\n",
    "\n",
    "builder.add_edge(\"tools\", END)\n",
    "\n",
    "graph = builder.compile()\n",
    "\n",
    "#View\n",
    "display(Image(graph.get_graph().draw_mermaid_png()))"
   ]
  },
  {
   "cell_type": "code",
   "execution_count": 40,
   "id": "522ca940",
   "metadata": {},
   "outputs": [
    {
     "name": "stdout",
     "output_type": "stream",
     "text": [
      "================================\u001b[1m Human Message \u001b[0m=================================\n",
      "\n",
      "1706.03762\n",
      "==================================\u001b[1m Ai Message \u001b[0m==================================\n",
      "Tool Calls:\n",
      "  arxiv (call_M9fl5PVqcXrGBTRu9EuJlDZX)\n",
      " Call ID: call_M9fl5PVqcXrGBTRu9EuJlDZX\n",
      "  Args:\n",
      "    query: 1706.03762\n",
      "=================================\u001b[1m Tool Message \u001b[0m=================================\n",
      "Name: arxiv\n",
      "\n",
      "Published: 2023-08-02\n",
      "Title: Attention Is All You Need\n",
      "Authors: Ashish Vaswani, Noam Shazeer, Niki Parmar, Jakob Uszkoreit, Llion Jones, Aidan N. Gomez, Lukasz Kaiser, Illia Polosukhin\n",
      "Summary: The dominant sequence transduction models are based on complex recurrent or\n",
      "convolutional neural networks in an encoder-decoder configuration. The best\n",
      "performing models also connect the encoder and decoder through an attention\n",
      "mechanism. We propose a new simple network architecture, the Transformer, base\n"
     ]
    }
   ],
   "source": [
    "messages=graph.invoke({\"messages\":HumanMessage(content=\"1706.03762\")})\n",
    "for m in messages['messages']:\n",
    "    m.pretty_print()"
   ]
  },
  {
   "cell_type": "code",
   "execution_count": 48,
   "id": "009efc0e",
   "metadata": {},
   "outputs": [
    {
     "name": "stdout",
     "output_type": "stream",
     "text": [
      "================================\u001b[1m Human Message \u001b[0m=================================\n",
      "\n",
      "What is time in US now\n",
      "==================================\u001b[1m Ai Message \u001b[0m==================================\n",
      "Tool Calls:\n",
      "  tavily_search (call_ksXjuiPec9j5e0TpG4w3Kprj)\n",
      " Call ID: call_ksXjuiPec9j5e0TpG4w3Kprj\n",
      "  Args:\n",
      "    query: current time in the United States\n",
      "    search_depth: basic\n",
      "=================================\u001b[1m Tool Message \u001b[0m=================================\n",
      "Name: tavily_search\n",
      "\n",
      "{\"query\": \"current time in the United States\", \"follow_up_questions\": null, \"answer\": null, \"images\": [], \"results\": [{\"url\": \"https://24timezones.com/United-States/time\", \"title\": \"Local time in United States right now - 24 Time Zones\", \"content\": \"Current local time in United States · Chicago · Houston · San Antonio · Dallas. 4:53 PM. Friday, September 5, 2025. GMT -06:00. MDT · Denver · El Paso ...California·Alabama·Florida·Colorado\", \"score\": 0.7961819, \"raw_content\": null}, {\"url\": \"https://24timezones.com/us_clock/usa_time.php\", \"title\": \"US Time Zone Map — Time in United States\", \"content\": \"Check current time in major cities of the United States of America ; -07:00. San Francisco. 06:02:52 am · 15. 16 ; -05:00. Dallas. 08:02:52 am · 17. 18 ; -04:00. New\", \"score\": 0.7944651, \"raw_content\": null}, {\"url\": \"https://www.timeanddate.com/worldclock/usa\", \"title\": \"Time in the United States\", \"content\": \"Current Local Time in the United States ; 6:30 pm. Honolulu · HST. UTC -10 ; 8:30 pm. Anchorage · AKDT. UTC -8 ; 9:30 pm. Los Angeles · PDT · Phoenix · MST. UTC -7.New York·USA, Illinois, Time·New City, NY, USA·Indianapolis, Indiana, USA\", \"score\": 0.7898345, \"raw_content\": null}, {\"url\": \"https://time.now/countries/united-states/\", \"title\": \"Current Time in United States\", \"content\": \"Timezone, Current Time. America/Adak, Sat 09:01:37. America/Anchorage, Sat 10:01:37. America/Atka, Sat 09:01:37. America/Boise, Sat 12:01:37.\", \"score\": 0.7882741, \"raw_content\": null}, {\"url\": \"https://www.time-zones-map.com/\", \"title\": \"Best Interactive Time Zone Map for Current Time Across US\", \"content\": \"There are 9 time zones in the USA: Hawaii (UTC -10:00), Alaska (UTC-09:00), Pacific (UTC-08:00), Mountain (UTC-07:00), Central (UTC-06:00), Eastern (UTC-05:00).\", \"score\": 0.72629017, \"raw_content\": null}], \"response_time\": 1.14, \"request_id\": \"82eff565-63e9-4ce3-a26a-f8233540e186\"}\n"
     ]
    }
   ],
   "source": [
    "messages=graph.invoke({\"messages\":HumanMessage(content=\"What is time in US now\")})\n",
    "for m in messages['messages']:\n",
    "    m.pretty_print()"
   ]
  },
  {
   "cell_type": "code",
   "execution_count": 43,
   "id": "66da1603",
   "metadata": {},
   "outputs": [
    {
     "name": "stdout",
     "output_type": "stream",
     "text": [
      "================================\u001b[1m Human Message \u001b[0m=================================\n",
      "\n",
      "What is Machine Learning\n",
      "==================================\u001b[1m Ai Message \u001b[0m==================================\n",
      "Tool Calls:\n",
      "  wikipedia (call_zNvuYk4dPMHEcWq9whpZ1lJf)\n",
      " Call ID: call_zNvuYk4dPMHEcWq9whpZ1lJf\n",
      "  Args:\n",
      "    query: Machine Learning\n",
      "=================================\u001b[1m Tool Message \u001b[0m=================================\n",
      "Name: wikipedia\n",
      "\n",
      "Page: Machine learning\n",
      "Summary: Machine learning (ML) is a field of study in artificial intelligence concerned with the development and study of statistical algorithms that can learn from data and generalise to unseen data, and thus perform tasks without explicit instructions. Within a subdiscipline in machine learning, advances in the field of deep learning have allowed neural networks, a class of statistical algorithms, to surpass many previous machine learning approaches in performance.\n",
      "ML fi\n"
     ]
    }
   ],
   "source": [
    "messages=graph.invoke({\"messages\":HumanMessage(content=\"What is Machine Learning\")})\n",
    "for m in messages['messages']:\n",
    "    m.pretty_print()"
   ]
  }
 ],
 "metadata": {
  "kernelspec": {
   "display_name": "Python 3",
   "language": "python",
   "name": "python3"
  },
  "language_info": {
   "codemirror_mode": {
    "name": "ipython",
    "version": 3
   },
   "file_extension": ".py",
   "mimetype": "text/x-python",
   "name": "python",
   "nbconvert_exporter": "python",
   "pygments_lexer": "ipython3",
   "version": "3.12.0"
  }
 },
 "nbformat": 4,
 "nbformat_minor": 5
}
