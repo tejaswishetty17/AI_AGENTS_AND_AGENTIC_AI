{
 "cells": [
  {
   "cell_type": "markdown",
   "id": "517ae657",
   "metadata": {},
   "source": [
    "### State Schema With DataClasses\n",
    "When we define a LangGraph StateGraph, we use a state schema.\n",
    "\n",
    "The state schema represents the structure and types of data that our graph will use.\n",
    "\n",
    "All nodes are expected to communicate with that schema.\n",
    "\n",
    "LangGraph offers flexibility in how you define your state schema, accommodating various Python types and validation approaches!\n"
   ]
  },
  {
   "cell_type": "markdown",
   "id": "08fa2603",
   "metadata": {},
   "source": [
    " we can use the TypedDict class from python's typing module.\n",
    "\n",
    "It allows you to specify keys and their corresponding value types.\n",
    "\n",
    "But, note that these are type hints.\n",
    "\n",
    "They can be used by static type checkers (like mypy) or IDEs to catch potential type-related errors before the code is run.\n",
    "\n",
    "But they are not enforced at runtime!"
   ]
  },
  {
   "cell_type": "code",
   "execution_count": 1,
   "id": "c1d6811c",
   "metadata": {},
   "outputs": [],
   "source": [
    "from typing_extensions import TypedDict\n",
    "from typing import Literal\n",
    "\n",
    "class TypedDictState(TypedDict):\n",
    "    name:str\n",
    "    game:Literal[\"cricket\", \"badminton\"]"
   ]
  },
  {
   "cell_type": "code",
   "execution_count": 24,
   "id": "9700f3ba",
   "metadata": {},
   "outputs": [],
   "source": [
    "def play_game(state: TypedDictState):\n",
    "    print(\"---Play game node has been called--\")\n",
    "    return {\"name\": state['name'] + \" wants to play \"}\n",
    "\n",
    "def cricket(state: TypedDictState):\n",
    "    print(\"-- Cricket node has been called--\")\n",
    "    return {\"name\":state['name']+\"cricket \", \"game\":\"cricket\"}\n",
    "\n",
    "def badminton(state:TypedDictState):\n",
    "    print(\"--badminton node has been called--\")\n",
    "    return {\"name\":state['name']+\"badminton \", \"game\":\"badminton\"}"
   ]
  },
  {
   "cell_type": "code",
   "execution_count": 13,
   "id": "8c1e593d",
   "metadata": {},
   "outputs": [],
   "source": [
    "import random\n",
    "def decide_play(state:TypedDictState)->Literal[\"cricket\", \"badminton\"]:\n",
    "    if random.random()<0.5:\n",
    "        return \"cricket\"\n",
    "    else:\n",
    "        return \"badminton\""
   ]
  },
  {
   "cell_type": "code",
   "execution_count": 25,
   "id": "66126f3d",
   "metadata": {},
   "outputs": [
    {
     "data": {
      "image/png": "[encoded data removed]",
      "text/plain": [
       "<IPython.core.display.Image object>"
      ]
     },
     "metadata": {},
     "output_type": "display_data"
    }
   ],
   "source": [
    "import random\n",
    "from IPython.display import Image, display\n",
    "from langgraph.graph import StateGraph, START, END\n",
    "\n",
    "builder = StateGraph(TypedDictState)\n",
    "builder.add_node(\"playgame\", play_game)\n",
    "builder.add_node(\"cricket\", cricket)\n",
    "builder.add_node(\"badminton\", badminton)\n",
    "\n",
    "#Flow of the graph\n",
    "\n",
    "builder.add_edge(START, \"playgame\")\n",
    "builder.add_conditional_edges(\"playgame\", decide_play)\n",
    "builder.add_edge(\"cricket\", END)\n",
    "builder.add_edge(\"badminton\", END)\n",
    "\n",
    "#Add\n",
    "graph = builder.compile()\n",
    "\n",
    "#view\n",
    "display(Image(graph.get_graph().draw_mermaid_png()))\n"
   ]
  },
  {
   "cell_type": "code",
   "execution_count": 18,
   "id": "01d970a4",
   "metadata": {},
   "outputs": [
    {
     "name": "stdout",
     "output_type": "stream",
     "text": [
      "---Play game node has been called--\n",
      "-- Cricket node has been called--\n"
     ]
    },
    {
     "data": {
      "text/plain": [
       "{'name': 'Tejaswi wants to play cricket ', 'game': 'cricket'}"
      ]
     },
     "execution_count": 18,
     "metadata": {},
     "output_type": "execute_result"
    }
   ],
   "source": [
    "graph.invoke({\"name\":\"Tejaswi\"})"
   ]
  },
  {
   "cell_type": "markdown",
   "id": "425a8277",
   "metadata": {},
   "source": [
    "### Dataclasses\n",
    "Python's dataclasses provide another way to define structured data.\n",
    "\n",
    "Dataclasses offer a concise syntax for creating classes that are primarily used to store data."
   ]
  },
  {
   "cell_type": "code",
   "execution_count": 27,
   "id": "e885023a",
   "metadata": {},
   "outputs": [],
   "source": [
    "###Dataclasses\n",
    "\n",
    "from dataclasses import dataclass\n",
    "\n",
    "@dataclass\n",
    "class DataClassState:\n",
    "    name:str\n",
    "    game:Literal[\"badminton\", \"cricket\"]"
   ]
  },
  {
   "cell_type": "code",
   "execution_count": 29,
   "id": "7fefacca",
   "metadata": {},
   "outputs": [],
   "source": [
    "def play_game(state: DataClassState):\n",
    "    print(\"---Play game node has been called--\")\n",
    "    return {\"name\": state.name + \" wants to play \"}\n",
    "\n",
    "def cricket(state: DataClassState):\n",
    "    print(\"-- Cricket node has been called--\")\n",
    "    return {\"name\":state.name +\"cricket \", \"game\":\"cricket\"}\n",
    "\n",
    "def badminton(state:DataClassState):\n",
    "    print(\"--badminton node has been called--\")\n",
    "    return {\"name\":state.name +\"badminton \", \"game\":\"badminton\"}"
   ]
  },
  {
   "cell_type": "code",
   "execution_count": 30,
   "id": "00ee08a6",
   "metadata": {},
   "outputs": [],
   "source": [
    "import random\n",
    "def decide_play(state:TypedDictState)->Literal[\"cricket\", \"badminton\"]:\n",
    "    if random.random()<0.5:\n",
    "        return \"cricket\"\n",
    "    else:\n",
    "        return \"badminton\""
   ]
  },
  {
   "cell_type": "code",
   "execution_count": 31,
   "id": "6f93ffd3",
   "metadata": {},
   "outputs": [
    {
     "data": {
      "image/png": "[encoded data removed]",
      "text/plain": [
       "<IPython.core.display.Image object>"
      ]
     },
     "metadata": {},
     "output_type": "display_data"
    }
   ],
   "source": [
    "import random\n",
    "from IPython.display import Image, display\n",
    "from langgraph.graph import StateGraph, START, END\n",
    "\n",
    "builder = StateGraph(DataClassState)\n",
    "builder.add_node(\"playgame\", play_game)\n",
    "builder.add_node(\"cricket\", cricket)\n",
    "builder.add_node(\"badminton\", badminton)\n",
    "\n",
    "#Flow of the graph\n",
    "\n",
    "builder.add_edge(START, \"playgame\")\n",
    "builder.add_conditional_edges(\"playgame\", decide_play)\n",
    "builder.add_edge(\"cricket\", END)\n",
    "builder.add_edge(\"badminton\", END)\n",
    "\n",
    "#Add\n",
    "graph = builder.compile()\n",
    "\n",
    "#view\n",
    "display(Image(graph.get_graph().draw_mermaid_png()))"
   ]
  },
  {
   "cell_type": "code",
   "execution_count": 34,
   "id": "7b569572",
   "metadata": {},
   "outputs": [
    {
     "name": "stdout",
     "output_type": "stream",
     "text": [
      "---Play game node has been called--\n",
      "--badminton node has been called--\n"
     ]
    },
    {
     "data": {
      "text/plain": [
       "{'name': 'Tejaswi wants to play badminton ', 'game': 'badminton'}"
      ]
     },
     "execution_count": 34,
     "metadata": {},
     "output_type": "execute_result"
    }
   ],
   "source": [
    "graph.invoke(DataClassState(name=\"Tejaswi\", game=\"badminton\"))"
   ]
  }
 ],
 "metadata": {
  "kernelspec": {
   "display_name": "Python 3",
   "language": "python",
   "name": "python3"
  },
  "language_info": {
   "codemirror_mode": {
    "name": "ipython",
    "version": 3
   },
   "file_extension": ".py",
   "mimetype": "text/x-python",
   "name": "python",
   "nbconvert_exporter": "python",
   "pygments_lexer": "ipython3",
   "version": "3.12.0"
  }
 },
 "nbformat": 4,
 "nbformat_minor": 5
}
