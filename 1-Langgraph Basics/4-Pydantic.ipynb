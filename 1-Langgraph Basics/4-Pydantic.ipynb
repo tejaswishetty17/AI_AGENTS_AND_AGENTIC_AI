{
 "cells": [
  {
   "cell_type": "markdown",
   "id": "1f385c05",
   "metadata": {},
   "source": [
    "### Pydantic Data Validation"
   ]
  },
  {
   "cell_type": "code",
   "execution_count": 1,
   "id": "abea2f0a",
   "metadata": {},
   "outputs": [],
   "source": [
    "from langgraph.graph import START, END, StateGraph\n",
    "from pydantic import BaseModel"
   ]
  },
  {
   "cell_type": "code",
   "execution_count": 2,
   "id": "f5495cd5",
   "metadata": {},
   "outputs": [],
   "source": [
    "class State(BaseModel):\n",
    "    name:str\n"
   ]
  },
  {
   "cell_type": "code",
   "execution_count": 3,
   "id": "295d775f",
   "metadata": {},
   "outputs": [],
   "source": [
    "##node function\n",
    "\n",
    "def example_node(state:State):\n",
    "    return {\"name\":\"Hello\"}"
   ]
  },
  {
   "cell_type": "code",
   "execution_count": 7,
   "id": "9ebf0e15",
   "metadata": {},
   "outputs": [
    {
     "data": {
      "image/png": "[encoded data removed]",
      "text/plain": [
       "<IPython.core.display.Image object>"
      ]
     },
     "metadata": {},
     "output_type": "display_data"
    }
   ],
   "source": [
    "from IPython.display import Image, display\n",
    "## state graph\n",
    "builder = StateGraph(State)\n",
    "\n",
    "builder.add_node(example_node, \"example_node\")\n",
    "\n",
    "builder.add_edge(START, \"example_node\")\n",
    "builder.add_edge(\"example_node\", END)\n",
    "\n",
    "graph = builder.compile()\n",
    "\n",
    "display(Image(graph.get_graph().draw_mermaid_png()))"
   ]
  },
  {
   "cell_type": "code",
   "execution_count": 10,
   "id": "eb681c96",
   "metadata": {},
   "outputs": [
    {
     "data": {
      "text/plain": [
       "{'name': 'Hello'}"
      ]
     },
     "execution_count": 10,
     "metadata": {},
     "output_type": "execute_result"
    }
   ],
   "source": [
    "graph.invoke({\"name\":\"tejas\"})"
   ]
  }
 ],
 "metadata": {
  "kernelspec": {
   "display_name": "Python 3",
   "language": "python",
   "name": "python3"
  },
  "language_info": {
   "codemirror_mode": {
    "name": "ipython",
    "version": 3
   },
   "file_extension": ".py",
   "mimetype": "text/x-python",
   "name": "python",
   "nbconvert_exporter": "python",
   "pygments_lexer": "ipython3",
   "version": "3.12.0"
  }
 },
 "nbformat": 4,
 "nbformat_minor": 5
}
