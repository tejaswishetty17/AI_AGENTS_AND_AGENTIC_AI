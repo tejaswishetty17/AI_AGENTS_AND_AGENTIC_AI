{
 "cells": [
  {
   "cell_type": "markdown",
   "id": "24c08d10",
   "metadata": {},
   "source": [
    "### 🤖 Implement ReAct with LangGraph-What is ReAct?\n",
    "ReAct (Reasoning + Acting) is a framework where an LLM:\n",
    "\n",
    "- Reasons step-by-step (e.g. decomposes questions, makes decisions)\n",
    "\n",
    "- Acts by calling tools like search, calculators, or retrievers\n",
    "\n",
    "This makes it perfect for Agentic RAG:\n",
    "✅ Think → Retrieve → Observe → Reflect → Final Answer"
   ]
  },
  {
   "cell_type": "code",
   "execution_count": 2,
   "id": "4f877681",
   "metadata": {},
   "outputs": [
    {
     "data": {
      "text/plain": [
       "True"
      ]
     },
     "execution_count": 2,
     "metadata": {},
     "output_type": "execute_result"
    }
   ],
   "source": [
    "import os\n",
    "from langgraph.prebuilt import create_react_agent\n",
    "from langchain.agents import Tool\n",
    "from langchain.tools import WikipediaQueryRun\n",
    "from langchain.utilities import WikipediaAPIWrapper\n",
    "from langchain_community.vectorstores import FAISS\n",
    "from langchain_openai import ChatOpenAI, OpenAIEmbeddings\n",
    "from langchain_community.document_loaders import WebBaseLoader\n",
    "from langchain.text_splitter import RecursiveCharacterTextSplitter\n",
    "from langgraph.graph import StateGraph, START, END\n",
    "from typing import Annotated, TypedDict, Sequence\n",
    "from langchain_core.messages import BaseMessage, HumanMessage, AIMessage\n",
    "from langgraph.graph.message import add_messages\n",
    "from dotenv import load_dotenv\n",
    "load_dotenv()"
   ]
  },
  {
   "cell_type": "code",
   "execution_count": 3,
   "id": "d6446a20",
   "metadata": {},
   "outputs": [],
   "source": [
    "# --------------------------\n",
    "# 1. Create Retriever Tool\n",
    "# --------------------------\n",
    "\n",
    "# Load content from blog\n",
    "docs = WebBaseLoader(\"https://lilianweng.github.io/posts/2023-06-23-agent/\").load()\n",
    "splitter = RecursiveCharacterTextSplitter(chunk_size = 500, chunk_overlap = 50)\n",
    "chunks = splitter.split_documents(documents=docs)\n",
    "\n",
    "embeddings = OpenAIEmbeddings()\n",
    "vectorstore = FAISS.from_documents(chunks, embeddings)\n",
    "retriever = vectorstore.as_retriever()"
   ]
  },
  {
   "cell_type": "code",
   "execution_count": 4,
   "id": "6e7dab15",
   "metadata": {},
   "outputs": [
    {
     "data": {
      "text/plain": [
       "[Document(id='288e749d-202a-4e84-ada7-67552f66857a', metadata={'source': 'https://lilianweng.github.io/posts/2023-06-23-agent/', 'title': \"LLM Powered Autonomous Agents | Lil'Log\", 'description': 'Building agents with LLM (large language model) as its core controller is a cool concept. Several proof-of-concepts demos, such as AutoGPT, GPT-Engineer and BabyAGI, serve as inspiring examples. The potentiality of LLM extends beyond generating well-written copies, stories, essays and programs; it can be framed as a powerful general problem solver.\\nAgent System Overview\\nIn a LLM-powered autonomous agent system, LLM functions as the agent’s brain, complemented by several key components:\\n\\nPlanning\\n\\nSubgoal and decomposition: The agent breaks down large tasks into smaller, manageable subgoals, enabling efficient handling of complex tasks.\\nReflection and refinement: The agent can do self-criticism and self-reflection over past actions, learn from mistakes and refine them for future steps, thereby improving the quality of final results.\\n\\n\\nMemory\\n\\nShort-term memory: I would consider all the in-context learning (See Prompt Engineering) as utilizing short-term memory of the model to learn.\\nLong-term memory: This provides the agent with the capability to retain and recall (infinite) information over extended periods, often by leveraging an external vector store and fast retrieval.\\n\\n\\nTool use\\n\\nThe agent learns to call external APIs for extra information that is missing from the model weights (often hard to change after pre-training), including current information, code execution capability, access to proprietary information sources and more.\\n\\n\\n\\n\\n\\t\\n\\tOverview of a LLM-powered autonomous agent system.\\n\\nComponent One: Planning\\nA complicated task usually involves many steps. An agent needs to know what they are and plan ahead.', 'language': 'en'}, page_content='Boiko et al. (2023) also looked into LLM-empowered agents for scientific discovery, to handle autonomous design, planning, and performance of complex scientific experiments. This agent can use tools to browse the Internet, read documentation, execute code, call robotics experimentation APIs and leverage other LLMs.\\nFor example, when requested to \"develop a novel anticancer drug\", the model came up with the following reasoning steps:'),\n",
       " Document(id='a27a37dd-c22f-4bea-aa9e-87914c3e5293', metadata={'source': 'https://lilianweng.github.io/posts/2023-06-23-agent/', 'title': \"LLM Powered Autonomous Agents | Lil'Log\", 'description': 'Building agents with LLM (large language model) as its core controller is a cool concept. Several proof-of-concepts demos, such as AutoGPT, GPT-Engineer and BabyAGI, serve as inspiring examples. The potentiality of LLM extends beyond generating well-written copies, stories, essays and programs; it can be framed as a powerful general problem solver.\\nAgent System Overview\\nIn a LLM-powered autonomous agent system, LLM functions as the agent’s brain, complemented by several key components:\\n\\nPlanning\\n\\nSubgoal and decomposition: The agent breaks down large tasks into smaller, manageable subgoals, enabling efficient handling of complex tasks.\\nReflection and refinement: The agent can do self-criticism and self-reflection over past actions, learn from mistakes and refine them for future steps, thereby improving the quality of final results.\\n\\n\\nMemory\\n\\nShort-term memory: I would consider all the in-context learning (See Prompt Engineering) as utilizing short-term memory of the model to learn.\\nLong-term memory: This provides the agent with the capability to retain and recall (infinite) information over extended periods, often by leveraging an external vector store and fast retrieval.\\n\\n\\nTool use\\n\\nThe agent learns to call external APIs for extra information that is missing from the model weights (often hard to change after pre-training), including current information, code execution capability, access to proprietary information sources and more.\\n\\n\\n\\n\\n\\t\\n\\tOverview of a LLM-powered autonomous agent system.\\n\\nComponent One: Planning\\nA complicated task usually involves many steps. An agent needs to know what they are and plan ahead.', 'language': 'en'}, page_content='Citation#\\nCited as:\\n\\nWeng, Lilian. (Jun 2023). “LLM-powered Autonomous Agents”. Lil’Log. https://lilianweng.github.io/posts/2023-06-23-agent/.'),\n",
       " Document(id='9bb4d973-e9eb-4e35-b7d1-74b646f27085', metadata={'source': 'https://lilianweng.github.io/posts/2023-06-23-agent/', 'title': \"LLM Powered Autonomous Agents | Lil'Log\", 'description': 'Building agents with LLM (large language model) as its core controller is a cool concept. Several proof-of-concepts demos, such as AutoGPT, GPT-Engineer and BabyAGI, serve as inspiring examples. The potentiality of LLM extends beyond generating well-written copies, stories, essays and programs; it can be framed as a powerful general problem solver.\\nAgent System Overview\\nIn a LLM-powered autonomous agent system, LLM functions as the agent’s brain, complemented by several key components:\\n\\nPlanning\\n\\nSubgoal and decomposition: The agent breaks down large tasks into smaller, manageable subgoals, enabling efficient handling of complex tasks.\\nReflection and refinement: The agent can do self-criticism and self-reflection over past actions, learn from mistakes and refine them for future steps, thereby improving the quality of final results.\\n\\n\\nMemory\\n\\nShort-term memory: I would consider all the in-context learning (See Prompt Engineering) as utilizing short-term memory of the model to learn.\\nLong-term memory: This provides the agent with the capability to retain and recall (infinite) information over extended periods, often by leveraging an external vector store and fast retrieval.\\n\\n\\nTool use\\n\\nThe agent learns to call external APIs for extra information that is missing from the model weights (often hard to change after pre-training), including current information, code execution capability, access to proprietary information sources and more.\\n\\n\\n\\n\\n\\t\\n\\tOverview of a LLM-powered autonomous agent system.\\n\\nComponent One: Planning\\nA complicated task usually involves many steps. An agent needs to know what they are and plan ahead.', 'language': 'en'}, page_content='Or\\n@article{weng2023agent,\\n  title   = \"LLM-powered Autonomous Agents\",\\n  author  = \"Weng, Lilian\",\\n  journal = \"lilianweng.github.io\",\\n  year    = \"2023\",\\n  month   = \"Jun\",\\n  url     = \"https://lilianweng.github.io/posts/2023-06-23-agent/\"\\n}\\nReferences#\\n[1] Wei et al. “Chain of thought prompting elicits reasoning in large language models.” NeurIPS 2022\\n[2] Yao et al. “Tree of Thoughts: Dliberate Problem Solving with Large Language Models.” arXiv preprint arXiv:2305.10601 (2023).'),\n",
       " Document(id='92154b8d-3890-4aa0-87ad-26ce70d0a437', metadata={'source': 'https://lilianweng.github.io/posts/2023-06-23-agent/', 'title': \"LLM Powered Autonomous Agents | Lil'Log\", 'description': 'Building agents with LLM (large language model) as its core controller is a cool concept. Several proof-of-concepts demos, such as AutoGPT, GPT-Engineer and BabyAGI, serve as inspiring examples. The potentiality of LLM extends beyond generating well-written copies, stories, essays and programs; it can be framed as a powerful general problem solver.\\nAgent System Overview\\nIn a LLM-powered autonomous agent system, LLM functions as the agent’s brain, complemented by several key components:\\n\\nPlanning\\n\\nSubgoal and decomposition: The agent breaks down large tasks into smaller, manageable subgoals, enabling efficient handling of complex tasks.\\nReflection and refinement: The agent can do self-criticism and self-reflection over past actions, learn from mistakes and refine them for future steps, thereby improving the quality of final results.\\n\\n\\nMemory\\n\\nShort-term memory: I would consider all the in-context learning (See Prompt Engineering) as utilizing short-term memory of the model to learn.\\nLong-term memory: This provides the agent with the capability to retain and recall (infinite) information over extended periods, often by leveraging an external vector store and fast retrieval.\\n\\n\\nTool use\\n\\nThe agent learns to call external APIs for extra information that is missing from the model weights (often hard to change after pre-training), including current information, code execution capability, access to proprietary information sources and more.\\n\\n\\n\\n\\n\\t\\n\\tOverview of a LLM-powered autonomous agent system.\\n\\nComponent One: Planning\\nA complicated task usually involves many steps. An agent needs to know what they are and plan ahead.', 'language': 'en'}, page_content=\"LLM Powered Autonomous Agents | Lil'Log\\n\\n\\n\\n\\n\\n\\n\\n\\n\\n\\n\\n\\n\\n\\n\\n\\n\\n\\n\\n\\n\\n\\n\\n\\n\\n\\n\\n\\n\\n\\n\\n\\n\\n\\n\\n\\n\\n\\n\\nLil'Log\\n\\n\\n\\n\\n\\n\\n\\n\\n\\n\\n\\n\\n\\n\\n\\n\\n\\n|\\n\\n\\n\\n\\n\\n\\nPosts\\n\\n\\n\\n\\nArchive\\n\\n\\n\\n\\nSearch\\n\\n\\n\\n\\nTags\\n\\n\\n\\n\\nFAQ\\n\\n\\n\\n\\n\\n\\n\\n\\n\\n      LLM Powered Autonomous Agents\\n    \\nDate: June 23, 2023  |  Estimated Reading Time: 31 min  |  Author: Lilian Weng\\n\\n\\n \\n\\n\\nTable of Contents\\n\\n\\n\\nAgent System Overview\\n\\nComponent One: Planning\\n\\nTask Decomposition\\n\\nSelf-Reflection\\n\\n\\nComponent Two: Memory\\n\\nTypes of Memory\\n\\nMaximum Inner Product Search (MIPS)\")]"
      ]
     },
     "execution_count": 4,
     "metadata": {},
     "output_type": "execute_result"
    }
   ],
   "source": [
    "retriever.invoke(\"What are autonomous agents\")"
   ]
  },
  {
   "cell_type": "code",
   "execution_count": 5,
   "id": "eeb7d955",
   "metadata": {},
   "outputs": [],
   "source": [
    "def retriever_tool_func(query: str)->str:\n",
    "    print(\"Using RAGRetriever tool\")\n",
    "    docs = retriever.invoke(query)\n",
    "    return \"\\n\".join([doc.page_content for doc in docs])"
   ]
  },
  {
   "cell_type": "code",
   "execution_count": 6,
   "id": "bc6b7c06",
   "metadata": {},
   "outputs": [
    {
     "name": "stdout",
     "output_type": "stream",
     "text": [
      "Using RAGRetriever tool\n",
      "Generative Agents Simulation#\n",
      "Generative Agents (Park, et al. 2023) is super fun experiment where 25 virtual characters, each controlled by a LLM-powered agent, are living and interacting in a sandbox environment, inspired by The Sims. Generative agents create believable simulacra of human behavior for interactive applications.\n",
      "Component One: Planning#\n",
      "A complicated task usually involves many steps. An agent needs to know what they are and plan ahead.\n",
      "Task Decomposition#\n",
      "Building agents with LLM (large language model) as its core controller is a cool concept. Several proof-of-concepts demos, such as AutoGPT, GPT-Engineer and BabyAGI, serve as inspiring examples. The potentiality of LLM extends beyond generating well-written copies, stories, essays and programs; it can be framed as a powerful general problem solver.\n",
      "Agent System Overview#\n",
      "In a LLM-powered autonomous agent system, LLM functions as the agent’s brain, complemented by several key components:\n",
      "Boiko et al. (2023) also looked into LLM-empowered agents for scientific discovery, to handle autonomous design, planning, and performance of complex scientific experiments. This agent can use tools to browse the Internet, read documentation, execute code, call robotics experimentation APIs and leverage other LLMs.\n",
      "For example, when requested to \"develop a novel anticancer drug\", the model came up with the following reasoning steps:\n"
     ]
    }
   ],
   "source": [
    "print(retriever_tool_func(\"What is agents\"))"
   ]
  },
  {
   "cell_type": "code",
   "execution_count": 7,
   "id": "d9697d1a",
   "metadata": {},
   "outputs": [
    {
     "name": "stdout",
     "output_type": "stream",
     "text": [
      "RAGRetriever\n"
     ]
    }
   ],
   "source": [
    "retriever_tool = Tool(\n",
    "    name = \"RAGRetriever\",\n",
    "    description=\"Use this to fetch relevant knowlegde base info\", \n",
    "    func = retriever_tool_func\n",
    ")\n",
    "retriever_tool\n",
    "print(retriever_tool.name)"
   ]
  },
  {
   "cell_type": "code",
   "execution_count": 8,
   "id": "7238f433",
   "metadata": {},
   "outputs": [
    {
     "data": {
      "text/plain": [
       "WikipediaQueryRun(api_wrapper=WikipediaAPIWrapper(wiki_client=<module 'wikipedia' from 'e:\\\\workspace\\\\AI_AGENTS_AND_AGENTIC_AI\\\\venv\\\\Lib\\\\site-packages\\\\wikipedia\\\\__init__.py'>, top_k_results=3, lang='en', load_all_available_meta=False, doc_content_chars_max=4000))"
      ]
     },
     "execution_count": 8,
     "metadata": {},
     "output_type": "execute_result"
    }
   ],
   "source": [
    "#Wikipedia tool\n",
    "wiki_tool = WikipediaQueryRun(api_wrapper=WikipediaAPIWrapper())\n",
    "wiki_tool"
   ]
  },
  {
   "cell_type": "code",
   "execution_count": 9,
   "id": "22fbb6eb",
   "metadata": {},
   "outputs": [],
   "source": [
    "from langchain.chat_models import init_chat_model\n",
    "os.environ[\"OPENAI_API_KEY\"] = os.getenv(\"OPENAI_API_KEY\")\n",
    "llm = init_chat_model(model = \"gpt-4o-mini\")"
   ]
  },
  {
   "cell_type": "code",
   "execution_count": 10,
   "id": "30f8c3a7",
   "metadata": {},
   "outputs": [
    {
     "data": {
      "image/png": "[encoded data removed]",
      "text/plain": [
       "<langgraph.graph.state.CompiledStateGraph object at 0x0000021BB8163320>"
      ]
     },
     "execution_count": 10,
     "metadata": {},
     "output_type": "execute_result"
    }
   ],
   "source": [
    "# ----------------------------\n",
    "# 2. Define the Agent Node\n",
    "# ----------------------------\n",
    "\n",
    "\n",
    "tools = [retriever_tool, wiki_tool]\n",
    "\n",
    "# create the native Langgraph react agent\n",
    "react_node = create_react_agent(llm, tools)\n",
    "react_node"
   ]
  },
  {
   "cell_type": "code",
   "execution_count": 11,
   "id": "7a541df5",
   "metadata": {},
   "outputs": [],
   "source": [
    "# --------------------------\n",
    "# 3. LangGraph Agent State\n",
    "# --------------------------\n",
    "class AgentState(TypedDict):\n",
    "    messages:Annotated[Sequence[BaseMessage], add_messages]"
   ]
  },
  {
   "cell_type": "code",
   "execution_count": 12,
   "id": "f87a66c5",
   "metadata": {},
   "outputs": [
    {
     "data": {
      "image/png": "[encoded data removed]",
      "text/plain": [
       "<langgraph.graph.state.CompiledStateGraph object at 0x0000021BB3A3FF80>"
      ]
     },
     "execution_count": 12,
     "metadata": {},
     "output_type": "execute_result"
    }
   ],
   "source": [
    "# --------------------------\n",
    "# 4. Build LangGraph Graph\n",
    "# --------------------------\n",
    "builder = StateGraph(AgentState)\n",
    "\n",
    "builder.add_node(\"react_agent\", react_node)\n",
    "builder.set_entry_point(\"react_agent\")\n",
    "builder.add_edge(\"react_agent\", END)\n",
    "\n",
    "graph = builder.compile()\n",
    "graph"
   ]
  },
  {
   "cell_type": "code",
   "execution_count": 13,
   "id": "3d708d0d",
   "metadata": {},
   "outputs": [
    {
     "name": "stdout",
     "output_type": "stream",
     "text": [
      "Using RAGRetriever tool\n",
      "\n",
      " Final Answer:\n",
      " ### Agent Loop\n",
      "An agent loop refers to the process in which an agent continually learns and improves its performance over time. This involves feeding the history of its learning experiences back into its model, leading to better predictions and actions in future trials. For example, in the context of large language models (LLMs), such as those used in scientific discovery tasks, the agent can utilize various tools, including internet browsing, documentation reading, code execution, and robotics experimentation APIs. There are several proof-of-concept applications that demonstrate agents powered by LLMs, showcasing their potential as powerful general problem solvers.\n",
      "\n",
      "### Autonomous Agents\n",
      "According to Wikipedia, an **autonomous agent** is an artificial intelligence (AI) system that operates independently to perform complex tasks. These agents are a subset of intelligent agents, which perceive their environment and act autonomously to achieve goals. They may also improve their performance over time through machine learning or knowledge acquisition.\n",
      "\n",
      "Intelligent agents can range in complexity from simple systems, like a thermostat, to highly advanced entities, such as humans or organizations. They are designed based on an objective function that encapsulates their goals, allowing them to create and execute plans to maximize expected outcomes. This framework intertwines with cognitive science, economics, ethics, and other fields, highlighting the interdisciplinary nature of autonomous agents and intelligent systems.\n",
      "\n",
      "In summary, both concepts point to the growing capabilities and applications of AI in executing and improving complex tasks autonomously.\n"
     ]
    }
   ],
   "source": [
    "# --------------------------\n",
    "# 5. Run the ReAct Agent\n",
    "# --------------------------\n",
    "\n",
    "if __name__ == \"__main__\":\n",
    "    user_query = \"What is an agent loop and how does Wikipedia describe autonomous agents?\"\n",
    "    state = {\"messages\":[HumanMessage(content=user_query)]}\n",
    "    result = graph.invoke(state)\n",
    "\n",
    "    print(\"\\n Final Answer:\\n\", result[\"messages\"][-1].content)"
   ]
  },
  {
   "cell_type": "markdown",
   "id": "a8721646",
   "metadata": {},
   "source": [
    "### Tool creation for RAG agents with langgraph \n",
    "To create tools for RAG agents using LangGraph, you're essentially building LLM-invocable functions that your agent can call as part of its reasoning + acting loop (ReAct).\n",
    "\n",
    "LangGraph uses the Tool abstraction from LangChain and fully supports tools for:\n",
    "\n",
    "- RAG retrieval\n",
    "- Search\n",
    "- Wikipedia\n",
    "- SQL\n",
    "- Web APIs\n",
    "- Calculators, etc.\n",
    "\n",
    "#### ✅ Tool Design Requirements\n",
    "A LangGraph tool must:\n",
    "\n",
    "- Have a name\n",
    "- Have a description (used by the LLM to decide when to use it)\n",
    "- Have a callable func, accepting a single input (usually str) and returning str"
   ]
  },
  {
   "cell_type": "code",
   "execution_count": 14,
   "id": "1128aaa1",
   "metadata": {},
   "outputs": [],
   "source": [
    "import os\n",
    "from typing import Annotated, Sequence, TypedDict\n",
    "from langchain.agents import Tool\n",
    "from langchain_community.vectorstores import FAISS\n",
    "from langchain_openai import OpenAIEmbeddings\n",
    "from langchain_community.document_loaders import WebBaseLoader, ArxivLoader, TextLoader\n",
    "from langchain.text_splitter import RecursiveCharacterTextSplitter\n",
    "from langchain.tools import WikipediaQueryRun\n",
    "from langchain.utilities import WikipediaAPIWrapper\n",
    "from langgraph.prebuilt import create_react_agent\n",
    "from langgraph.graph import StateGraph, END\n",
    "from langchain_core.messages import BaseMessage, HumanMessage\n",
    "from langgraph.graph.message import add_messages\n",
    "from langchain_community.document_loaders import TextLoader"
   ]
  },
  {
   "cell_type": "code",
   "execution_count": 15,
   "id": "e48912e9",
   "metadata": {},
   "outputs": [
    {
     "data": {
      "text/plain": [
       "ChatOpenAI(client=<openai.resources.chat.completions.completions.Completions object at 0x0000021BB8160800>, async_client=<openai.resources.chat.completions.completions.AsyncCompletions object at 0x0000021BB8162C00>, root_client=<openai.OpenAI object at 0x0000021BB50B7F50>, root_async_client=<openai.AsyncOpenAI object at 0x0000021BB81607D0>, model_name='gpt-4o-mini', model_kwargs={}, openai_api_key=SecretStr('**********'))"
      ]
     },
     "execution_count": 15,
     "metadata": {},
     "output_type": "execute_result"
    }
   ],
   "source": [
    "llm"
   ]
  },
  {
   "cell_type": "code",
   "execution_count": 18,
   "id": "e3838132",
   "metadata": {},
   "outputs": [],
   "source": [
    "### Generic Function to create a retrieval tool \n",
    "\n",
    "def make_retriever_tool_from_text(file, name, desc):\n",
    "    docs = TextLoader(file, encoding=\"utf-8\").load()\n",
    "    chunks = RecursiveCharacterTextSplitter(chunk_size = 500, chunk_overlap=50).split_documents(docs)\n",
    "    vs = FAISS.from_documents(chunks, OpenAIEmbeddings())\n",
    "    retriever = vs.as_retriever()\n",
    "\n",
    "    def tool_func(query:str)->str:\n",
    "        print(f\"Using tool: {name}\")\n",
    "        results = retriever.invoke(query)\n",
    "        return \"\\n\\n\".join(doc.page_content for doc in results)\n",
    "    \n",
    "    return Tool(name=name, description=desc, func=tool_func)\n",
    "\n",
    "# Wikipedia Tool\n",
    "wiki_tool = Tool(\n",
    "    name=\"Wikipedia\", \n",
    "    description=\"Use this tool to fetch general worl knowledge from Wikipedia.\",\n",
    "    func = WikipediaQueryRun(api_wrapper=WikipediaAPIWrapper())\n",
    ")\n",
    "\n",
    "\n",
    "# ArXiv Tool\n",
    "def arxiv_search(query:str)->str:\n",
    "    print(\"Searcing ArXiv...\")\n",
    "    results = ArxivLoader(query).load()\n",
    "    return \"\\n\\n\".join(doc.page_content[:1000] for doc in results[:2]) or \"No papers found.\"\n",
    "\n",
    "arxiv_tool = Tool(\n",
    "    name = \"ArXivSearch\",\n",
    "    description=\"Use this tool to fetch recent acadamic papers on technical topics.\",\n",
    "    func = arxiv_search\n",
    ")"
   ]
  },
  {
   "cell_type": "code",
   "execution_count": 21,
   "id": "2e3536d4",
   "metadata": {},
   "outputs": [
    {
     "data": {
      "text/plain": [
       "Tool(name='InternaltechDocs', description='Search internal tech documents for proprietary architecture and methods.', func=<function make_retriever_tool_from_text.<locals>.tool_func at 0x0000021BF16D0D60>)"
      ]
     },
     "execution_count": 21,
     "metadata": {},
     "output_type": "execute_result"
    }
   ],
   "source": [
    "internal_tool_1 = make_retriever_tool_from_text(\n",
    "    \"data/internal_docs.txt\", \n",
    "    \"InternaltechDocs\", \n",
    "    \"Search internal tech documents for proprietary architecture and methods.\"\n",
    ")\n",
    "internal_tool_1"
   ]
  },
  {
   "cell_type": "code",
   "execution_count": 22,
   "id": "ee3d043c",
   "metadata": {},
   "outputs": [
    {
     "data": {
      "text/plain": [
       "Tool(name='InternalResearchNotes', description='Search internal research notes for experimental results and agent designs.', func=<function make_retriever_tool_from_text.<locals>.tool_func at 0x0000021BB823BCE0>)"
      ]
     },
     "execution_count": 22,
     "metadata": {},
     "output_type": "execute_result"
    }
   ],
   "source": [
    "internal_tool_2 = make_retriever_tool_from_text(\n",
    "    \"data/research_notes.txt\", \n",
    "    \"InternalResearchNotes\", \n",
    "    \"Search internal research notes for experimental results and agent designs.\"\n",
    ")\n",
    "internal_tool_2"
   ]
  },
  {
   "cell_type": "code",
   "execution_count": 24,
   "id": "2bac082e",
   "metadata": {},
   "outputs": [
    {
     "data": {
      "image/png": "[encoded data removed]",
      "text/plain": [
       "<langgraph.graph.state.CompiledStateGraph object at 0x0000021BB3B7ECC0>"
      ]
     },
     "execution_count": 24,
     "metadata": {},
     "output_type": "execute_result"
    }
   ],
   "source": [
    "tools = [wiki_tool, arxiv_tool, internal_tool_1, internal_tool_2]\n",
    "\n",
    "react_node = create_react_agent(llm, tools)\n",
    "react_node"
   ]
  },
  {
   "cell_type": "code",
   "execution_count": 25,
   "id": "06620ffd",
   "metadata": {},
   "outputs": [],
   "source": [
    "class AgentState(TypedDict):\n",
    "    messages: Annotated[Sequence[BaseMessage], add_messages]"
   ]
  },
  {
   "cell_type": "code",
   "execution_count": 26,
   "id": "b61fb796",
   "metadata": {},
   "outputs": [
    {
     "data": {
      "image/png": "[encoded data removed]",
      "text/plain": [
       "<langgraph.graph.state.CompiledStateGraph object at 0x0000021BB3C096A0>"
      ]
     },
     "execution_count": 26,
     "metadata": {},
     "output_type": "execute_result"
    }
   ],
   "source": [
    "builder = StateGraph(AgentState)\n",
    "builder.add_node(\"agentic_rag\", react_node)\n",
    "builder.set_entry_point(\"agentic_rag\")\n",
    "builder.add_edge(\"agentic_rag\", END)\n",
    "\n",
    "graph = builder.compile()\n",
    "graph"
   ]
  },
  {
   "cell_type": "code",
   "execution_count": 30,
   "id": "16003144",
   "metadata": {},
   "outputs": [
    {
     "name": "stdout",
     "output_type": "stream",
     "text": [
      "Using tool: InternalResearchNotes\n",
      "Searcing ArXiv...\n",
      "Searcing ArXiv...\n",
      "\n",
      "✅ Final Answer:\n",
      " The internal research notes on transformer variants provide several insights:\n",
      "\n",
      "1. **EfficientFormer**: \n",
      "   - Achieved a Top-1 accuracy of 92.4% on TinyImageNet.\n",
      "   - Peak memory usage is 290MB with a batch size of 16.\n",
      "   - Successfully deployed on Raspberry Pi 4.\n",
      "   - Demonstrated effectiveness in quantized int8 mode with no significant accuracy drop.\n",
      "\n",
      "2. **Longformer**: \n",
      "   - Evaluated on customer support logs with a maximum token limit of 8192.\n",
      "   - Noted a latency of over 1.2 seconds per query in a streaming setting.\n",
      "   - Observations suggest that chunk-based hybrid attention could help reduce delays.\n",
      "\n",
      "3. **Reformer**: \n",
      "   - Encountered challenges during training, including bucket collisions and inconsistent loss spikes.\n",
      "   - Sparse gradient updates were observed during LSH attention.\n",
      "   - Various solutions were attempted, including gradient clipping and the use of memory-efficient attention modules.\n",
      "\n",
      "4. **TinyBERT**: \n",
      "   - Used for classifying support ticket priority, achieving an 87% F1 score.\n",
      "   - Confusion noted within ambiguous classes, particularly Class C.\n",
      "   - Performed well with a 2-layer feedforward neural network (FFN) adapter for domain transfer.\n",
      "\n",
      "5. **Additional Experiments**:\n",
      "   - Implemented FlashAttention2 into LLaMA2, reducing context latency by about 50%.\n",
      "   - Found that Chain-of-Thought prompting outperformed direct answer prompting by 8% on logic tasks.\n",
      "   - Conducted hybrid retrieval experiments comparing Weaviate with FAISS + BM25 reranking, noting that FAISS was more efficient but had slightly lower recall.\n",
      "   - LoRA tuning was applied for adapter-based fine-tuning, significantly reducing GPU memory footprint by 60%.\n",
      "\n",
      "Unfortunately, there was an issue in retrieving recent papers from ArXiv about transformer variants. I can try to run that search again if you would like.\n"
     ]
    }
   ],
   "source": [
    "query = \"What do our internal research notes say about transformer variants, and what does ArXiv suggest about transformer variants recently?\"\n",
    "\n",
    "state = {\"messages\": [HumanMessage(content=query)]}\n",
    "result = graph.invoke(state)\n",
    "\n",
    "print(\"\\n✅ Final Answer:\\n\", result[\"messages\"][-1].content)"
   ]
  }
 ],
 "metadata": {
  "kernelspec": {
   "display_name": "Python 3",
   "language": "python",
   "name": "python3"
  },
  "language_info": {
   "codemirror_mode": {
    "name": "ipython",
    "version": 3
   },
   "file_extension": ".py",
   "mimetype": "text/x-python",
   "name": "python",
   "nbconvert_exporter": "python",
   "pygments_lexer": "ipython3",
   "version": "3.12.0"
  }
 },
 "nbformat": 4,
 "nbformat_minor": 5
}
